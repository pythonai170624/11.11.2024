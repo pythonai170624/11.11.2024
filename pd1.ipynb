{
 "cells": [
  {
   "cell_type": "code",
   "execution_count": 1,
   "id": "2495c9d7-d3b6-407a-87c6-cd574212202e",
   "metadata": {},
   "outputs": [],
   "source": [
    "import numpy as np\n",
    "import pandas as pd"
   ]
  },
  {
   "cell_type": "code",
   "execution_count": 8,
   "id": "60fb27a4-a6e2-4777-b53a-15873495ec17",
   "metadata": {},
   "outputs": [
    {
     "name": "stdout",
     "output_type": "stream",
     "text": [
      "0     10\n",
      "1    100\n",
      "2     15\n",
      "3     35\n",
      "dtype: int64\n",
      "\n",
      "[ 10 100  15  35]\n",
      "\n",
      "<class 'pandas.core.series.Series'>\n",
      "\n",
      "10\n"
     ]
    }
   ],
   "source": [
    "pd_series = pd.Series([10, 100, 15, 35])\n",
    "np_array = np.array([10, 100, 15, 35])\n",
    "print(pd_series)\n",
    "print()\n",
    "print(np_array)\n",
    "print()\n",
    "print(type(pd_series))\n",
    "print()\n",
    "print(pd_series[0])"
   ]
  },
  {
   "cell_type": "code",
   "execution_count": 25,
   "id": "7914b4cb-212c-415d-addc-e0897d739157",
   "metadata": {},
   "outputs": [
    {
     "name": "stdout",
     "output_type": "stream",
     "text": [
      "USA       1776\n",
      "CANADA    1867\n",
      "MEXICO    1821\n",
      "dtype: int64\n",
      "\n",
      "0    1776\n",
      "1    1867\n",
      "2    1821\n",
      "dtype: int64\n",
      "\n",
      "USA       1776\n",
      "CANADA    1867\n",
      "MEXICO    1821\n",
      "dtype: int64\n"
     ]
    }
   ],
   "source": [
    "data = [1776, 1867, 1821]  # list\n",
    "label_index = ['USA', 'CANADA', 'MEXICO']\n",
    "pd_series = pd.Series(data=data, index=label_index)\n",
    "\n",
    "print(pd_series)\n",
    "pd_series.reset_index(drop=True, inplace=True) # back to numeric index\n",
    "print()\n",
    "print(pd_series)\n",
    "pd_series.index = label_index # back to label index\n",
    "print()\n",
    "print(pd_series)\n",
    "#print(pd_series[0]) # warning\n",
    "#print(pd_series['CANADA'])\n",
    "\n"
   ]
  },
  {
   "cell_type": "code",
   "execution_count": 38,
   "id": "3e26269b-a275-470c-adf0-c8096ee11e88",
   "metadata": {},
   "outputs": [
    {
     "name": "stdout",
     "output_type": "stream",
     "text": [
      "USA       1776\n",
      "CANADA    1867\n",
      "MEXICO    1821\n",
      "dtype: int64\n",
      "\n",
      "<class 'pandas.core.indexes.base.Index'>\n",
      "['USA', 'CANADA', 'MEXICO']\n",
      "USA\n",
      "Index(['USA', 'MEXICO'], dtype='object')\n",
      "3\n",
      "3\n",
      "1776\n"
     ]
    }
   ],
   "source": [
    "dict1 = { 'USA': 1776, 'CANADA': 1867, 'MEXICO' : 1821 }\n",
    "pd_ser_dict = pd.Series(dict1)\n",
    "print(pd_ser_dict)\n",
    "print()\n",
    "print(type(pd_ser_dict.keys()))\n",
    "print(list(pd_ser_dict.keys()))\n",
    "print(pd_ser_dict.keys()[0])\n",
    "print(pd_ser_dict.keys()[0::2])\n",
    "print(pd_ser_dict.keys().size)\n",
    "print(len(pd_ser_dict.keys()))\n",
    "\n",
    "print(pd_ser_dict['USA'])\n",
    "print(pd_ser_dict[pd_ser_dict.keys()[0]])\n"
   ]
  },
  {
   "cell_type": "code",
   "execution_count": 74,
   "id": "4bc8d9ae-ea96-40fa-984d-6f2b0dc0f092",
   "metadata": {},
   "outputs": [
    {
     "name": "stdout",
     "output_type": "stream",
     "text": [
      "pd_series + second_ser\n",
      " Brazil   NaN\n",
      "CANADA   NaN\n",
      "CHINA    NaN\n",
      "MEXICO   NaN\n",
      "USA      NaN\n",
      "Usa      NaN\n",
      "dtype: float64\n",
      "\n",
      "Brazil    1768.0\n",
      "CANADA    1867.0\n",
      "CHINA      200.0\n",
      "MEXICO    1821.0\n",
      "USA       1776.0\n",
      "Usa        100.0\n",
      "dtype: float64\n",
      "\n",
      "Brazil    1768\n",
      "CANADA    1867\n",
      "CHINA      200\n",
      "MEXICO    1821\n",
      "USA       1776\n",
      "Usa        100\n",
      "dtype: int32\n",
      "\n",
      "1    1200\n",
      "2     899\n",
      "dtype: int64\n",
      "False\n"
     ]
    }
   ],
   "source": [
    "data = [1776, 1867, 1821]  # list\n",
    "label_index = ['USA', 'CANADA', 'MEXICO']\n",
    "pd_series = pd.Series(data=data, index=label_index)\n",
    "\n",
    "second = {'Usa': 100, 'Brazil': 1768, 'CHINA': 200}\n",
    "second_ser = pd.Series(second)\n",
    "\n",
    "# concat series\n",
    "print('pd_series + second_ser\\n', pd_series + second_ser)  # + operator , must have a match or you'll get NaN\n",
    "print()\n",
    "print(pd_series.add(second_ser, fill_value=0))\n",
    "print()\n",
    "print(pd_series.add(second_ser, fill_value=0).astype(int))\n",
    "#print(pd_series + second_ser))  # + operator , must have a match or you'll get NaN\n",
    "\n",
    "mar_2024 = { 1: 1000, 2: 500 }\n",
    "pd_ser_mar_2024 = pd.Series(mar_2024)\n",
    "apr_2024 = { 1: 200, 2: 399 }\n",
    "pd_ser_apr_2024 = pd.Series(apr_2024)\n",
    "\n",
    "#mar_apr_sum = mar_2024 + apr_2024\n",
    "print()\n",
    "mar_apr_sum = pd_ser_mar_2024.add(pd_ser_apr_2024, fill_value=0)\n",
    "print(mar_apr_sum)\n",
    "\n",
    "print('Greece' in second_ser.keys())\n",
    "\n",
    "# def calc_price(products: list[str]) -> (int , dict):\n",
    "    \n",
    "\n",
    "# calc_price(['asus laptop', 'iphone 16'])\n",
    "\n",
    "# tel_aviv = ... 'asus laptop': 7000, 'iphone 16': 5000\n",
    "# tel_aviv_pd = pd.Series({.. })\n",
    "# herzeliya = ... 'asus laptop': 6000, 'iphone 15': 5000, 'macbook pro': 12000\n",
    "# ramat_gan = ... 'asus laptop': 7000, 'iphone 16': 5000\n",
    "# Define Series for each store's availability\n",
    "\n",
    "\n",
    "\n"
   ]
  },
  {
   "cell_type": "code",
   "execution_count": 114,
   "id": "b191e453-4e84-4ec6-bc0c-74e2cf7d088a",
   "metadata": {},
   "outputs": [
    {
     "name": "stdout",
     "output_type": "stream",
     "text": [
      "Asuslaptop      12000.0\n",
      "Delllaptop       7500.0\n",
      "ipad             2000.0\n",
      "iphone14         3000.0\n",
      "iphone15         5000.0\n",
      "iphone16         7000.0\n",
      "macbookair       8000.0\n",
      "macbookpro      12000.0\n",
      "sata2Tb          1999.0\n",
      "sata3Tb          1200.0\n",
      "speakerJabra     1685.0\n",
      "dtype: float64\n",
      "Asuslaptop in stores:  telaviv herzelya\n",
      "speakerJabra in stores: tel-aviv,herzeliya,or-yehuda\n",
      "\n",
      " Asuslaptop               tel-aviv,herzeliya,\n",
      "Delllaptop                         oryehuda,\n",
      "ipad                               oryehuda,\n",
      "iphone14                           oryehuda,\n",
      "iphone15                           tel-aviv,\n",
      "iphone16                          herzeliya,\n",
      "macbookair                        herzeliya,\n",
      "macbookpro                         tel-aviv,\n",
      "sata2Tb                  herzeliya,oryehuda,\n",
      "sata3Tb                            tel-aviv,\n",
      "speakerJabra    tel-aviv,herzeliya,oryehuda,\n",
      "dtype: object\n",
      "Asuslaptopin stores: tel-aviv,herzeliya\n"
     ]
    }
   ],
   "source": [
    "telaviv_store = pd.Series({'Asuslaptop': 6000, 'iphone15': 5000, 'macbookpro': 12000, 'speakerJabra': 700, 'sata3Tb': 1200})\n",
    "herzelya_store = pd.Series({'Asuslaptop': 6000, 'iphone16': 7000, 'macbookair': 8000, 'speakerJabra': 900, 'sata2Tb': 1000})\n",
    "oryehuda_store = pd.Series({'Delllaptop': 7500, 'iphone14': 3000, 'ipad': 2000, 'speakerJabra': 85, 'sata2Tb': 999})\n",
    "\n",
    "sum_stores = tel_aviv_store\n",
    "for store in [herzelya_store, oryehuda_store]:\n",
    "        sum_stores.add(store, fill_value=0)\n",
    "print(sum_prices)\n",
    "\n",
    "product_name = 'Asuslaptop'\n",
    "stores_with_product = ''\n",
    "stores_with_product += ' telaviv' if product_name in tel_aviv_store.keys() else ''\n",
    "stores_with_product += ' herzelya' if product_name in herzelya_store.keys() else ''\n",
    "stores_with_product += ' oryehuda' if product_name in oryehuda_store.keys() else ''\n",
    "print(product_name, 'in stores:', stores_with_product if stores_with_product else 'not found')\n",
    "# { 'speakerJabra': '...', 'iphone16': '...' }\n",
    "\n",
    "product_name = 'speakerJabra'\n",
    "stores_with_product_ls = []\n",
    "if product_name in tel_aviv_store.keys():\n",
    "    stores_with_product_ls.append('tel-aviv')\n",
    "if product_name in herzelya_store.keys():\n",
    "    stores_with_product_ls.append('herzeliya')\n",
    "if product_name in herzelya_store.keys():\n",
    "    stores_with_product_ls.append('or-yehuda')\n",
    "print('speakerJabra in stores:', ','.join(stores_with_product_ls))\n",
    "\n",
    "telaviv_store = pd.Series({'Asuslaptop': 6000, 'iphone15': 5000, 'macbookpro': 12000, 'speakerJabra': 700, 'sata3Tb': 1200})\n",
    "herzelya_store = pd.Series({'Asuslaptop': 6000, 'iphone16': 7000, 'macbookair': 8000, 'speakerJabra': 900, 'sata2Tb': 1000})\n",
    "oryehuda_store = pd.Series({'Delllaptop': 7500, 'iphone14': 3000, 'ipad': 2000, 'speakerJabra': 85, 'sata2Tb': 999})\n",
    "\n",
    "telaviv_store_names = pd.Series({'Asuslaptop': 'tel-aviv,',  'iphone15': 'tel-aviv,', 'macbookpro': 'tel-aviv,', \n",
    "                                 'speakerJabra': 'tel-aviv,', 'sata3Tb': 'tel-aviv,'})\n",
    "herzelya_store_names = pd.Series({'Asuslaptop': 'herzeliya,', 'iphone16': 'herzeliya,', 'macbookair': 'herzeliya,', \n",
    "                                  'speakerJabra': 'herzeliya,', 'sata2Tb': 'herzeliya,'})\n",
    "oryehuda_store_names = pd.Series({'Delllaptop': 'oryehuda,', 'iphone14': 'oryehuda,', 'ipad': 'oryehuda,', \n",
    "                                  'speakerJabra': 'oryehuda,', 'sata2Tb': 'oryehuda,'})\n",
    "\n",
    "\n",
    "names = telaviv_store_names.add(herzelya_store_names, fill_value='').add(oryehuda_store_names, fill_value='')\n",
    "print('\\n', names)\n",
    "print('Asuslaptopin stores:', names['Asuslaptop'][:-1])\n"
   ]
  },
  {
   "cell_type": "code",
   "execution_count": 116,
   "id": "1699aee7-009d-417d-b5fa-362fd257f428",
   "metadata": {},
   "outputs": [
    {
     "name": "stdout",
     "output_type": "stream",
     "text": [
      "(12000.0, {'Asuslaptop': 'tel-aviv,herzeliya'})\n"
     ]
    }
   ],
   "source": [
    "def get_price_stores(products: list[str]) -> (int, dict):\n",
    "    telaviv_store = pd.Series({'Asuslaptop': 6000, 'iphone15': 5000, 'macbookpro': 12000, 'speakerJabra': 700, 'sata3Tb': 1200})\n",
    "    herzelya_store = pd.Series({'Asuslaptop': 6000, 'iphone16': 7000, 'macbookair': 8000, 'speakerJabra': 900, 'sata2Tb': 1000})\n",
    "    oryehuda_store = pd.Series({'Delllaptop': 7500, 'iphone14': 3000, 'ipad': 2000, 'speakerJabra': 85, 'sata2Tb': 999})\n",
    "    sum_stores = tel_aviv_store\n",
    "    for store in [herzelya_store, oryehuda_store]:\n",
    "            sum_stores = sum_stores.add(store, fill_value=0)\n",
    "        \n",
    "    telaviv_store_names = pd.Series({'Asuslaptop': 'tel-aviv,',  'iphone15': 'tel-aviv,', 'macbookpro': 'tel-aviv,', \n",
    "                                     'speakerJabra': 'tel-aviv,', 'sata3Tb': 'tel-aviv,'})\n",
    "    herzelya_store_names = pd.Series({'Asuslaptop': 'herzeliya,', 'iphone16': 'herzeliya,', 'macbookair': 'herzeliya,', \n",
    "                                      'speakerJabra': 'herzeliya,', 'sata2Tb': 'herzeliya,'})\n",
    "    oryehuda_store_names = pd.Series({'Delllaptop': 'oryehuda,', 'iphone14': 'oryehuda,', 'ipad': 'oryehuda,', \n",
    "                                      'speakerJabra': 'oryehuda,', 'sata2Tb': 'oryehuda,'})\n",
    "    store_names = telaviv_store_names.add(herzelya_store_names, fill_value='').add(oryehuda_store_names, fill_value='')\n",
    "\n",
    "\n",
    "    total: int = 0\n",
    "    dict_result = {}\n",
    "    for product in products:\n",
    "        if not product in list(sum_stores.keys()):\n",
    "            dict_result[product] = \"not in stores\"\n",
    "            continue\n",
    "        total += sum_stores[product]\n",
    "        dict_result[product] = store_names[product][:-1]\n",
    "    \n",
    "    return total, dict_result\n",
    "        \n",
    "print(get_price_stores(['Asuslaptop', 'speakerJabra', 'macbookair', 'mouse']))\n"
   ]
  }
 ],
 "metadata": {
  "kernelspec": {
   "display_name": "Python 3 (ipykernel)",
   "language": "python",
   "name": "python3"
  },
  "language_info": {
   "codemirror_mode": {
    "name": "ipython",
    "version": 3
   },
   "file_extension": ".py",
   "mimetype": "text/x-python",
   "name": "python",
   "nbconvert_exporter": "python",
   "pygments_lexer": "ipython3",
   "version": "3.11.7"
  }
 },
 "nbformat": 4,
 "nbformat_minor": 5
}
